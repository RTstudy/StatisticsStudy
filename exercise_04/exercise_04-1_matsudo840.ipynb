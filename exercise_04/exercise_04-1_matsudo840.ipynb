{
 "nbformat": 4,
 "nbformat_minor": 2,
 "metadata": {
  "language_info": {
   "name": "python",
   "codemirror_mode": {
    "name": "ipython",
    "version": 3
   },
   "version": "3.7.3-final"
  },
  "orig_nbformat": 2,
  "file_extension": ".py",
  "mimetype": "text/x-python",
  "name": "python",
  "npconvert_exporter": "python",
  "pygments_lexer": "ipython3",
  "version": 3,
  "kernelspec": {
   "name": "914130d1-6f33-422a-b45c-5149b640094a",
   "display_name": "'Python Interactive'"
  }
 },
 "cells": [
  {
   "cell_type": "markdown",
   "metadata": {},
   "source": [
    "# 演習問題4 確率密度と分布関数(I)"
   ]
  },
  {
   "cell_type": "markdown",
   "metadata": {},
   "source": [
    "Sympyで代数的に解く"
   ]
  },
  {
   "cell_type": "code",
   "execution_count": 37,
   "metadata": {},
   "outputs": [
    {
     "output_type": "execute_result",
     "data": {
      "text/plain": "a*sin(x)",
      "text/latex": "$\\displaystyle a \\sin{\\left(x \\right)}$"
     },
     "metadata": {},
     "execution_count": 37
    }
   ],
   "source": [
    "# https://docs.sympy.org/latest/modules/core.html\n",
    "\n",
    "import sympy\n",
    "import math\n",
    "\n",
    "a, x = sympy.symbols('a x')\n",
    "f = a * sympy.sin(x)\n",
    "f"
   ]
  },
  {
   "cell_type": "code",
   "execution_count": 34,
   "metadata": {},
   "outputs": [
    {
     "output_type": "execute_result",
     "data": {
      "text/plain": "2.0*a",
      "text/latex": "$\\displaystyle 2.0 a$"
     },
     "metadata": {},
     "execution_count": 34
    }
   ],
   "source": [
    "F = sympy.integrate(f, (x, 0, math.pi))\n",
    "F"
   ]
  },
  {
   "cell_type": "code",
   "execution_count": 36,
   "metadata": {},
   "outputs": [
    {
     "output_type": "stream",
     "name": "stdout",
     "text": "a = [0.500000000000000]\n"
    }
   ],
   "source": []
  },
  {
   "cell_type": "code",
   "execution_count": null,
   "metadata": {},
   "outputs": [],
   "source": []
  }
 ]
}