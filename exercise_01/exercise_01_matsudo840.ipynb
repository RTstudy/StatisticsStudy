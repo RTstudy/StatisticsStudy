{
  "nbformat": 4,
  "nbformat_minor": 0,
  "metadata": {
    "colab": {
      "name": "exercise_01_matsudo840.ipynb",
      "provenance": [],
      "collapsed_sections": []
    },
    "kernelspec": {
      "name": "python3",
      "display_name": "Python 3"
    }
  },
  "cells": [
    {
      "cell_type": "markdown",
      "metadata": {
        "id": "a3LtV2mYmsm0",
        "colab_type": "text"
      },
      "source": [
        "# 演習問題1\n",
        "2つのサイコロX,Yを同時に1回振って、出た目をそれぞれ(x,y)とおき、z=x+yとおく。このとき、z=2, 3, ..., 12となる場合の数を求めよ。"
      ]
    },
    {
      "cell_type": "code",
      "metadata": {
        "id": "PslonBfhnxY1",
        "colab_type": "code",
        "colab": {}
      },
      "source": [
        "from collections import defaultdict\n",
        "import itertools\n",
        "import numpy as np\n",
        "\n",
        "# グラフを描画するライブラリ\n",
        "from matplotlib import pyplot as plt\n",
        "import seaborn as sns; sns.set() # sns.set() ==> グラフの見た目をseabornに合わせる"
      ],
      "execution_count": 0,
      "outputs": []
    },
    {
      "cell_type": "markdown",
      "metadata": {
        "id": "lvndllXXq7-f",
        "colab_type": "text"
      },
      "source": [
        "## 全探索で解く"
      ]
    },
    {
      "cell_type": "code",
      "metadata": {
        "id": "G1LnnvhtmW6u",
        "colab_type": "code",
        "outputId": "0a6727b0-ffe6-4dcb-9507-d7d5f8c22c54",
        "colab": {
          "base_uri": "https://localhost:8080/",
          "height": 221
        }
      },
      "source": [
        "ans = defaultdict(int)\n",
        "\n",
        "for x,y in itertools.product(range(1,7), repeat=2):\n",
        "  z = x + y\n",
        "  ans[z] += 1\n",
        "\n",
        "ans"
      ],
      "execution_count": 0,
      "outputs": [
        {
          "output_type": "execute_result",
          "data": {
            "text/plain": [
              "defaultdict(int,\n",
              "            {2: 1,\n",
              "             3: 2,\n",
              "             4: 3,\n",
              "             5: 4,\n",
              "             6: 5,\n",
              "             7: 6,\n",
              "             8: 5,\n",
              "             9: 4,\n",
              "             10: 3,\n",
              "             11: 2,\n",
              "             12: 1})"
            ]
          },
          "metadata": {
            "tags": []
          },
          "execution_count": 16
        }
      ]
    },
    {
      "cell_type": "code",
      "metadata": {
        "id": "X3j9D-req04B",
        "colab_type": "code",
        "outputId": "ae83dd6f-6212-4271-e14f-df7a554f68e5",
        "colab": {
          "base_uri": "https://localhost:8080/",
          "height": 221
        }
      },
      "source": [
        "print('z', 'ans')\n",
        "for z in range(2,13):\n",
        "  print(z, ans[z])"
      ],
      "execution_count": 0,
      "outputs": [
        {
          "output_type": "stream",
          "text": [
            "z ans\n",
            "2 1\n",
            "3 2\n",
            "4 3\n",
            "5 4\n",
            "6 5\n",
            "7 6\n",
            "8 5\n",
            "9 4\n",
            "10 3\n",
            "11 2\n",
            "12 1\n"
          ],
          "name": "stdout"
        }
      ]
    },
    {
      "cell_type": "markdown",
      "metadata": {
        "id": "VWb-EDNAoSgX",
        "colab_type": "text"
      },
      "source": [
        "## numpyで解く\n"
      ]
    },
    {
      "cell_type": "code",
      "metadata": {
        "id": "79GUhLP7r0Yq",
        "colab_type": "code",
        "outputId": "7155e7fc-4192-4cb7-8352-23bb58d9e244",
        "colab": {
          "base_uri": "https://localhost:8080/",
          "height": 119
        }
      },
      "source": [
        "# https://note.nkmk.me/python-numpy-arange-linspace/\n",
        "x = np.arange(1,7)\n",
        "y = np.arange(1,7)\n",
        "\n",
        "# https://python.atelierkobato.com/meshgrid/\n",
        "X,Y = np.meshgrid(x, y)\n",
        "Z = X + Y\n",
        "\n",
        "Z"
      ],
      "execution_count": 0,
      "outputs": [
        {
          "output_type": "execute_result",
          "data": {
            "text/plain": [
              "array([[ 2,  3,  4,  5,  6,  7],\n",
              "       [ 3,  4,  5,  6,  7,  8],\n",
              "       [ 4,  5,  6,  7,  8,  9],\n",
              "       [ 5,  6,  7,  8,  9, 10],\n",
              "       [ 6,  7,  8,  9, 10, 11],\n",
              "       [ 7,  8,  9, 10, 11, 12]])"
            ]
          },
          "metadata": {
            "tags": []
          },
          "execution_count": 40
        }
      ]
    },
    {
      "cell_type": "code",
      "metadata": {
        "id": "JT5M5csTsw29",
        "colab_type": "code",
        "outputId": "35b3b8b7-283e-4eca-d411-3c4594843d8f",
        "colab": {
          "base_uri": "https://localhost:8080/",
          "height": 51
        }
      },
      "source": [
        "# https://note.nkmk.me/python-numpy-unique/\n",
        "\n",
        "z, counts = np.unique(Z, return_counts=True)\n",
        "print(z)\n",
        "print(counts)"
      ],
      "execution_count": 0,
      "outputs": [
        {
          "output_type": "stream",
          "text": [
            "[ 2  3  4  5  6  7  8  9 10 11 12]\n",
            "[1 2 3 4 5 6 5 4 3 2 1]\n"
          ],
          "name": "stdout"
        }
      ]
    },
    {
      "cell_type": "markdown",
      "metadata": {
        "id": "JR9S8HHOvccZ",
        "colab_type": "text"
      },
      "source": [
        "## シミュレーション"
      ]
    },
    {
      "cell_type": "code",
      "metadata": {
        "id": "QmJwgky_20g0",
        "colab_type": "code",
        "colab": {
          "base_uri": "https://localhost:8080/",
          "height": 34
        },
        "outputId": "fb5356e9-561e-4c14-9318-ba4889963efe"
      },
      "source": [
        "X = np.random.randint(1,7,1000000)\n",
        "Y = np.random.randint(1,7,1000000)\n",
        "Z = X + Y"
      ],
      "execution_count": 52,
      "outputs": [
        {
          "output_type": "stream",
          "text": [
            "[0, 0, 27473, 55648, 83246, 111672, 139140, 166044, 139156, 111253, 83316, 55317, 27735]\n"
          ],
          "name": "stdout"
        }
      ]
    },
    {
      "cell_type": "code",
      "metadata": {
        "id": "6cxQWagY5Rrj",
        "colab_type": "code",
        "colab": {
          "base_uri": "https://localhost:8080/",
          "height": 268
        },
        "outputId": "4acfbe38-be7c-44e0-fbc7-01e7b8b298cb"
      },
      "source": [
        "# https://qiita.com/hik0107/items/3dc541158fceb3156ee0\n",
        "# https://tanuhack.com/seaborn-histgram/\n",
        "from scipy.stats import norm\n",
        "ax = sns.distplot(Z, kde=False, rug=False, fit=norm, bins=11)\n",
        "\n",
        "# binsを指定しないできれいに描く方法はないか？"
      ],
      "execution_count": 75,
      "outputs": [
        {
          "output_type": "display_data",
          "data": {
            "image/png": "[encoded data removed]",
            "text/plain": [
              "<Figure size 432x288 with 1 Axes>"
            ]
          },
          "metadata": {
            "tags": []
          }
        }
      ]
    }
  ]
}