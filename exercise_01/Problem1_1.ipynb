{
  "nbformat": 4,
  "nbformat_minor": 0,
  "metadata": {
    "colab": {
      "name": "Problem1-1.ipynb",
      "provenance": [],
      "collapsed_sections": []
    },
    "kernelspec": {
      "name": "python3",
      "display_name": "Python 3"
    }
  },
  "cells": [
    {
      "cell_type": "markdown",
      "metadata": {
        "id": "a3LtV2mYmsm0",
        "colab_type": "text"
      },
      "source": [
        "# 演習問題1\n",
        "2つのサイコロX,Yを同時に1回振って、出た目をそれぞれ(x,y)とおき、z=x+yとおく。このとき、z=2, 3, ..., 12となる場合の数を求めよ。"
      ]
    },
    {
      "cell_type": "code",
      "metadata": {
        "id": "PslonBfhnxY1",
        "colab_type": "code",
        "colab": {}
      },
      "source": [
        "from collections import defaultdict\n",
        "import itertools\n",
        "import numpy as np"
      ],
      "execution_count": 0,
      "outputs": []
    },
    {
      "cell_type": "markdown",
      "metadata": {
        "id": "lvndllXXq7-f",
        "colab_type": "text"
      },
      "source": [
        "## 全探索で解く"
      ]
    },
    {
      "cell_type": "code",
      "metadata": {
        "id": "G1LnnvhtmW6u",
        "colab_type": "code",
        "colab": {
          "base_uri": "https://localhost:8080/",
          "height": 221
        },
        "outputId": "0a6727b0-ffe6-4dcb-9507-d7d5f8c22c54"
      },
      "source": [
        "ans = defaultdict(int)\n",
        "\n",
        "for x,y in itertools.product(range(1,7), repeat=2):\n",
        "  z = x + y\n",
        "  ans[z] += 1\n",
        "\n",
        "ans"
      ],
      "execution_count": 16,
      "outputs": [
        {
          "output_type": "execute_result",
          "data": {
            "text/plain": [
              "defaultdict(int,\n",
              "            {2: 1,\n",
              "             3: 2,\n",
              "             4: 3,\n",
              "             5: 4,\n",
              "             6: 5,\n",
              "             7: 6,\n",
              "             8: 5,\n",
              "             9: 4,\n",
              "             10: 3,\n",
              "             11: 2,\n",
              "             12: 1})"
            ]
          },
          "metadata": {
            "tags": []
          },
          "execution_count": 16
        }
      ]
    },
    {
      "cell_type": "code",
      "metadata": {
        "id": "X3j9D-req04B",
        "colab_type": "code",
        "colab": {
          "base_uri": "https://localhost:8080/",
          "height": 221
        },
        "outputId": "ae83dd6f-6212-4271-e14f-df7a554f68e5"
      },
      "source": [
        "print('z', 'ans')\n",
        "for z in range(2,13):\n",
        "  print(z, ans[z])"
      ],
      "execution_count": 17,
      "outputs": [
        {
          "output_type": "stream",
          "text": [
            "z ans\n",
            "2 1\n",
            "3 2\n",
            "4 3\n",
            "5 4\n",
            "6 5\n",
            "7 6\n",
            "8 5\n",
            "9 4\n",
            "10 3\n",
            "11 2\n",
            "12 1\n"
          ],
          "name": "stdout"
        }
      ]
    },
    {
      "cell_type": "markdown",
      "metadata": {
        "id": "VWb-EDNAoSgX",
        "colab_type": "text"
      },
      "source": [
        "## numpyで解く\n"
      ]
    },
    {
      "cell_type": "code",
      "metadata": {
        "id": "79GUhLP7r0Yq",
        "colab_type": "code",
        "colab": {
          "base_uri": "https://localhost:8080/",
          "height": 119
        },
        "outputId": "7155e7fc-4192-4cb7-8352-23bb58d9e244"
      },
      "source": [
        "# https://note.nkmk.me/python-numpy-arange-linspace/\n",
        "x = np.arange(1,7)\n",
        "y = np.arange(1,7)\n",
        "\n",
        "# https://python.atelierkobato.com/meshgrid/\n",
        "X,Y = np.meshgrid(x, y)\n",
        "Z = X + Y\n",
        "\n",
        "Z"
      ],
      "execution_count": 40,
      "outputs": [
        {
          "output_type": "execute_result",
          "data": {
            "text/plain": [
              "array([[ 2,  3,  4,  5,  6,  7],\n",
              "       [ 3,  4,  5,  6,  7,  8],\n",
              "       [ 4,  5,  6,  7,  8,  9],\n",
              "       [ 5,  6,  7,  8,  9, 10],\n",
              "       [ 6,  7,  8,  9, 10, 11],\n",
              "       [ 7,  8,  9, 10, 11, 12]])"
            ]
          },
          "metadata": {
            "tags": []
          },
          "execution_count": 40
        }
      ]
    },
    {
      "cell_type": "code",
      "metadata": {
        "id": "JT5M5csTsw29",
        "colab_type": "code",
        "colab": {
          "base_uri": "https://localhost:8080/",
          "height": 51
        },
        "outputId": "35b3b8b7-283e-4eca-d411-3c4594843d8f"
      },
      "source": [
        "# https://note.nkmk.me/python-numpy-unique/\n",
        "\n",
        "z, counts = np.unique(Z, return_counts=True)\n",
        "print(z)\n",
        "print(counts)"
      ],
      "execution_count": 42,
      "outputs": [
        {
          "output_type": "stream",
          "text": [
            "[ 2  3  4  5  6  7  8  9 10 11 12]\n",
            "[1 2 3 4 5 6 5 4 3 2 1]\n"
          ],
          "name": "stdout"
        }
      ]
    },
    {
      "cell_type": "code",
      "metadata": {
        "id": "JR9S8HHOvccZ",
        "colab_type": "code",
        "colab": {}
      },
      "source": [
        ""
      ],
      "execution_count": 0,
      "outputs": []
    }
  ]
}