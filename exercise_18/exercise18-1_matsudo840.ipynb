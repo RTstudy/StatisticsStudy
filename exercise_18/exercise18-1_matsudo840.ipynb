{
 "cells": [
  {
   "cell_type": "markdown",
   "metadata": {},
   "source": [
    "# 演習問題18"
   ]
  },
  {
   "cell_type": "code",
   "execution_count": 17,
   "metadata": {},
   "outputs": [],
   "source": [
    "import numpy as np\n",
    "from scipy import stats\n",
    "import math"
   ]
  },
  {
   "cell_type": "code",
   "execution_count": 18,
   "metadata": {},
   "outputs": [],
   "source": [
    "H = np.array([0.5, 4.2, 3.8, 1.2, 0.8, 2.1, 2.4, 3.0])"
   ]
  },
  {
   "cell_type": "code",
   "execution_count": 25,
   "metadata": {},
   "outputs": [
    {
     "output_type": "stream",
     "name": "stdout",
     "text": "-0.5172853157197943\n"
    }
   ],
   "source": [
    "x = np.mean(H)\n",
    "mu = 2.5\n",
    "variance = np.var(H, ddof=1)\n",
    "n = len(H)\n",
    "\n",
    "t = (x - mu)/math.sqrt(variance/n)\n",
    "print(t)"
   ]
  },
  {
   "cell_type": "code",
   "execution_count": 27,
   "metadata": {},
   "outputs": [
    {
     "output_type": "execute_result",
     "data": {
      "text/plain": "2.3646242510102993"
     },
     "metadata": {},
     "execution_count": 27
    }
   ],
   "source": [
    "alpha = 0.05\n",
    "t_value = stats.t.ppf(1-alpha/2, df=n-1)\n",
    "t_value"
   ]
  },
  {
   "cell_type": "markdown",
   "metadata": {},
   "source": [
    "-t_value < t < t_value より、検定統計量Tの実現値t=-0.517は棄却域Rに入っていないので、「仮説H0: μ=2.5」は棄却されない。"
   ]
  }
 ],
 "metadata": {
  "language_info": {
   "codemirror_mode": {
    "name": "ipython",
    "version": 3
   },
   "file_extension": ".py",
   "mimetype": "text/x-python",
   "name": "python",
   "nbconvert_exporter": "python",
   "pygments_lexer": "ipython3",
   "version": "3.7.3-final"
  },
  "orig_nbformat": 2,
  "kernelspec": {
   "name": "914130d1-6f33-422a-b45c-5149b640094a",
   "display_name": "'Python Interactive'"
  }
 },
 "nbformat": 4,
 "nbformat_minor": 2
}