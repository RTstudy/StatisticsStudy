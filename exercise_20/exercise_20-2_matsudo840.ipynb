{
 "cells": [
  {
   "cell_type": "markdown",
   "metadata": {},
   "source": [
    "# 実践問題20"
   ]
  },
  {
   "cell_type": "code",
   "execution_count": 1,
   "metadata": {},
   "outputs": [],
   "source": [
    "# https://hira03.hatenablog.com/entry/statistics_test_for_equality_of_variance\n",
    "\n",
    "import numpy as np\n",
    "from scipy import stats"
   ]
  },
  {
   "cell_type": "code",
   "execution_count": 2,
   "metadata": {},
   "outputs": [],
   "source": [
    "X = [76, 82, 96, 70, 69]\n",
    "Y = [42, 53, 81, 60, 65, 44]"
   ]
  },
  {
   "cell_type": "code",
   "execution_count": 3,
   "metadata": {},
   "outputs": [
    {
     "output_type": "stream",
     "name": "stdout",
     "text": "0.5758865248226951\n0.04453068446613765\n15.556059804546626\n"
    }
   ],
   "source": [
    "F = np.var(X, ddof=1) / np.var(Y, ddof=1)\n",
    "print(F)\n",
    "print(stats.f.ppf(0.005, len(X)-1, len(Y)-1))  # 下側棄却域\n",
    "print(stats.f.ppf(1-0.005, len(X)-1, len(Y)-1))  # 上側棄却域"
   ]
  },
  {
   "cell_type": "markdown",
   "metadata": {},
   "source": [
    "検定統計量Tの実現値t=0.576は棄却域Rに入らない。\n",
    "よって、仮説H0: σx2=σy2は棄却されない。"
   ]
  },
  {
   "cell_type": "code",
   "execution_count": null,
   "metadata": {},
   "outputs": [],
   "source": []
  }
 ],
 "metadata": {
  "language_info": {
   "codemirror_mode": {
    "name": "ipython",
    "version": 3
   },
   "file_extension": ".py",
   "mimetype": "text/x-python",
   "name": "python",
   "nbconvert_exporter": "python",
   "pygments_lexer": "ipython3",
   "version": "3.7.3-final"
  },
  "orig_nbformat": 2,
  "kernelspec": {
   "name": "914130d1-6f33-422a-b45c-5149b640094a",
   "display_name": "'Python Interactive'"
  }
 },
 "nbformat": 4,
 "nbformat_minor": 2
}