{
 "cells": [
  {
   "cell_type": "markdown",
   "metadata": {},
   "source": [
    "# 演習問題20"
   ]
  },
  {
   "cell_type": "code",
   "execution_count": 6,
   "metadata": {},
   "outputs": [],
   "source": [
    "# https://hira03.hatenablog.com/entry/statistics_test_for_equality_of_variance\n",
    "\n",
    "import numpy as np\n",
    "from scipy import stats"
   ]
  },
  {
   "cell_type": "code",
   "execution_count": 7,
   "metadata": {},
   "outputs": [],
   "source": [
    "eater = [1.2, 0.8, 1.5, 1.2, 1.0]\n",
    "not_eater = [0.8, 0.4, 0.6, 1.0, 0.5, 0.4, 0.5]"
   ]
  },
  {
   "cell_type": "code",
   "execution_count": 25,
   "metadata": {},
   "outputs": [
    {
     "output_type": "stream",
     "name": "stdout",
     "text": "1.3599999999999992\n0.10872743037293357\n6.22716116435764\n"
    }
   ],
   "source": [
    "F = np.var(eater, ddof=1) / np.var(not_eater, ddof=1)\n",
    "print(F)\n",
    "print(stats.f.ppf(0.025, 4, 6))  # 下側棄却域\n",
    "print(stats.f.ppf(1-0.025, 4, 6))  # 上側棄却域"
   ]
  },
  {
   "cell_type": "markdown",
   "metadata": {},
   "source": [
    "検定統計量Tの実現値t=1.360は棄却域Rに入らない。\n",
    "よって、仮説H0: σx2=σy2は棄却されない。"
   ]
  },
  {
   "cell_type": "code",
   "execution_count": null,
   "metadata": {},
   "outputs": [],
   "source": []
  }
 ],
 "metadata": {
  "language_info": {
   "codemirror_mode": {
    "name": "ipython",
    "version": 3
   },
   "file_extension": ".py",
   "mimetype": "text/x-python",
   "name": "python",
   "nbconvert_exporter": "python",
   "pygments_lexer": "ipython3",
   "version": "3.7.3-final"
  },
  "orig_nbformat": 2,
  "kernelspec": {
   "name": "914130d1-6f33-422a-b45c-5149b640094a",
   "display_name": "'Python Interactive'"
  }
 },
 "nbformat": 4,
 "nbformat_minor": 2
}