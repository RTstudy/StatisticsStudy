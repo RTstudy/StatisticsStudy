{
 "cells": [
  {
   "cell_type": "markdown",
   "metadata": {},
   "source": [
    "# 演習問題15"
   ]
  },
  {
   "cell_type": "code",
   "execution_count": 37,
   "metadata": {},
   "outputs": [],
   "source": [
    "import numpy as np"
   ]
  },
  {
   "cell_type": "code",
   "execution_count": 38,
   "metadata": {},
   "outputs": [],
   "source": [
    "score = np.array([(64, 80), (49, 55), (82, 66), (91, 72), (38, 42),\n",
    "         (71, 73), (88, 76), (44, 39), (70, 60)])"
   ]
  },
  {
   "cell_type": "code",
   "execution_count": 39,
   "metadata": {},
   "outputs": [
    {
     "output_type": "execute_result",
     "data": {
      "text/plain": "array([[329.55555556, 201.81481481],\n       [201.81481481, 192.91358025]])"
     },
     "metadata": {},
     "execution_count": 39
    }
   ],
   "source": [
    "# 分散共分散行列\n",
    "# https://mathtrain.jp/varcovmatrix\n",
    "cov = np.cov(score, rowvar=False, bias=True)\n",
    "cov"
   ]
  },
  {
   "cell_type": "code",
   "execution_count": 40,
   "metadata": {},
   "outputs": [
    {
     "output_type": "execute_result",
     "data": {
      "text/plain": "array([[1.        , 0.80040045],\n       [0.80040045, 1.        ]])"
     },
     "metadata": {},
     "execution_count": 40
    }
   ],
   "source": [
    "# 相関係数行列\n",
    "# https://mathtrain.jp/correlationmatrix\n",
    "cor = np.corrcoef(score, rowvar=False, bias=True)\n",
    "cor"
   ]
  },
  {
   "cell_type": "code",
   "execution_count": 41,
   "metadata": {},
   "outputs": [],
   "source": [
    "# 単回帰\n",
    "# https://algorithm.joho.info/programming/python/numpy-polyfit-line/\n",
    "a, b = np.polyfit(score[:, 0], score[:, 1], 1)"
   ]
  },
  {
   "cell_type": "code",
   "execution_count": 44,
   "metadata": {},
   "outputs": [
    {
     "output_type": "stream",
     "name": "stdout",
     "text": "sx^2:329.6, sy^2:192.9, sxy:201.8, rxy:0.800, a:0.612, b:21.9\n"
    }
   ],
   "source": [
    "print('sx^2:{:.1f}, sy^2:{:.1f}, sxy:{:.1f}, rxy:{:.3f}, a:{:.3f}, b:{:.1f}'.format(cov[0][0], cov[1][1], cov[0][1], cor[0][1], a, b))"
   ]
  },
  {
   "cell_type": "code",
   "execution_count": null,
   "metadata": {},
   "outputs": [],
   "source": []
  }
 ],
 "metadata": {
  "kernelspec": {
   "display_name": "'Python Interactive'",
   "language": "python",
   "name": "914130d1-6f33-422a-b45c-5149b640094a"
  },
  "language_info": {
   "codemirror_mode": {
    "name": "ipython",
    "version": 3
   },
   "file_extension": ".py",
   "mimetype": "text/x-python",
   "name": "python",
   "nbconvert_exporter": "python",
   "pygments_lexer": "ipython3",
   "version": "3.7.3-final"
  }
 },
 "nbformat": 4,
 "nbformat_minor": 2
}