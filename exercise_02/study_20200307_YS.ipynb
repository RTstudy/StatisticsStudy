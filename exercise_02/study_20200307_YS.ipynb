{
 "cells": [
  {
   "cell_type": "markdown",
   "metadata": {},
   "source": [
    "# 演習問題２\n",
    "## ベイズの定理（事後確率）"
   ]
  },
  {
   "cell_type": "markdown",
   "metadata": {},
   "source": [
    "## 乱数によるシミュレーションを実施してみる"
   ]
  },
  {
   "cell_type": "code",
   "execution_count": 2,
   "metadata": {},
   "outputs": [],
   "source": [
    "import numpy as np\n",
    "import matplotlib.pyplot as plt\n",
    "import seaborn as sns"
   ]
  },
  {
   "cell_type": "markdown",
   "metadata": {},
   "source": [
    "### B先生が問題を作ったとき、変数testを0、K先生が作ったとき、1とする\n",
    "### さらにB先生の問題に統計がはいっているとき、変数statを0、K先生の問題に統計が入っているときを1とする\n",
    "### 試行をN回繰り返したときの確率分布を確認する\n",
    "\n",
    "### コーディング基本方針\n",
    "- なるべくforループを露わに書かず、内包表記で済ませるようにする\n",
    "- 乱数の発生はループ処理ではなく、配列と内包表記により実現する"
   ]
  },
  {
   "cell_type": "code",
   "execution_count": 2,
   "metadata": {},
   "outputs": [
    {
     "name": "stdout",
     "output_type": "stream",
     "text": [
      "3267\n",
      "2936\n"
     ]
    }
   ],
   "source": [
    "# シミュレーション初期設定\n",
    "n = 10000\n",
    "P = 2/3\n",
    "PSTAT = np.array([1/5,1/2])\n",
    "\n",
    "# 要素数Nの一様分布に従う乱数の配列を返す\n",
    "rand_test = np.random.rand(n)\n",
    "\n",
    "# 後でインデックスに使うのでtestには整数値を格納する\n",
    "test = [1 if i>2/3 else 0 for i in rand_test]\n",
    "# 試しに合計を出すと、だいたい1/3になっており、K先生が問題を作ったときの値が1になっていることがわかる\n",
    "print(np.sum(test))\n",
    "\n",
    "# 配列testから変数statを内包表記で作成する\n",
    "rand_stat = np.random.rand(n)\n",
    "stat = [1 if p<PSTAT[test[i]] else 0 for i,p in enumerate(rand_stat)]\n",
    "print(np.sum(stat))\n",
    "\n",
    "# 問題に統計が入っている確率は\n",
    "# (2/3)*(1/5) + (1/3)*(1/2) = 0.3\n",
    "# なので、おおよそあっている"
   ]
  },
  {
   "cell_type": "code",
   "execution_count": 3,
   "metadata": {},
   "outputs": [
    {
     "name": "stdout",
     "output_type": "stream",
     "text": [
      "2936\n",
      "0.4478882833787466\n"
     ]
    }
   ],
   "source": [
    "# 問題に統計が入っているとき、B先生が問題を作った確率を求める\n",
    "# 配列statが1であるインデックスにおいて、配列statが0である確率を求めれば良い\n",
    "\n",
    "# 配列statが1であるインデックスは\n",
    "problem_stat = [test[idx] for idx,n in enumerate(stat) if n==1]\n",
    "# ちゃんと統計が入っている問題数と同じ数だけ値が取れていることを確認\n",
    "print(len(problem_stat))\n",
    "\n",
    "# B先生が問題を作った場合のtestは値が0なので、配列の要素数から合計を除けば良い\n",
    "p = (len(problem_stat) - np.sum(problem_stat)) / len(problem_stat)\n",
    "print(p)\n",
    "\n",
    "# 回答は4/9なのでおおよそあっている"
   ]
  },
  {
   "cell_type": "markdown",
   "metadata": {},
   "source": [
    "## そもそもif文を使わずにステップ関数を使うやり方を試してみる（2020/03/06）\n",
    "### ステップ関数には、pythonが指定条件のTrue/Falseを1/0で返すことを利用する\n",
    "### やっている内容はほぼ変わらないし、コードの見た目もほとんど変わらない\n",
    "### ただし、条件分岐を何らかの関数で代替する、という考え方にもっていけるのならば、その方がよりきれいなコーディングができるので良いと思われる"
   ]
  },
  {
   "cell_type": "code",
   "execution_count": 4,
   "metadata": {},
   "outputs": [
    {
     "name": "stdout",
     "output_type": "stream",
     "text": [
      "3309\n",
      "2986\n"
     ]
    }
   ],
   "source": [
    "# シミュレーション初期設定\n",
    "n = 10000                       # 発生させる乱数の数\n",
    "P = 2/3                         # B先生が問題を作る確率　B先生が問題を作った場合、1となるようにする\n",
    "PSTAT = np.array([1/5,1/2])     # B先生、K先生がそれぞれ統計の問題を入れる確率を配列にする、後でインデックスで指定できるようにするため\n",
    "\n",
    "# 2つの乱数列を発生させる\n",
    "rand_test = np.random.rand(n)  # テストをどちらの先生が作成するかを決める一様乱数\n",
    "rand_stat = np.random.rand(n)  # 問題に統計が含まれるかどうかを決める一様乱数\n",
    "\n",
    "# step関数を用いてrand_testからどちらの先生が問題を作成したかを決める\n",
    "test = [1 * (x > P) for x in rand_test]                                 # (x>P)はTrueのとき1を、Falseのとき0を返すので、一様乱数に対して指定の閾値を設定すれば指定の確率でのベルヌーイ試行ができる\n",
    "stat = [1 * (x < PSTAT[test[idx]]) for idx, x in enumerate(rand_stat)]  # enumerateでindexとvalueを取得、rand_statのインデックスに対応するtestの値を利用してどちらの先生の統計を入れる確率をとるかを決める\n",
    "\n",
    "# 値の確認\n",
    "print(np.sum(test))\n",
    "print(np.sum(stat))"
   ]
  },
  {
   "cell_type": "markdown",
   "metadata": {},
   "source": [
    "### コードの妥当性が確認できたので、ここからシミュレーションパート"
   ]
  },
  {
   "cell_type": "code",
   "execution_count": 5,
   "metadata": {},
   "outputs": [],
   "source": [
    "# シミュレーション実施の関数を作成\n",
    "def bayesSingle():\n",
    "    np.random.seed()\n",
    "    rand_test = np.random.rand(n)\n",
    "    #test = [1 if i > P else 0 for i in rand_test]\n",
    "    test = [1 * (x > P) for x in rand_test]\n",
    "    rand_stat = np.random.rand(n)\n",
    "    #stat = [1 if p < PSTAT[test[i]] else 0 for i,p in enumerate(rand_stat)]\n",
    "    stat = [1 * (x < PSTAT[test[idx]]) for idx, x in enumerate(rand_stat)]\n",
    "    problem_stat = [test[idx] for idx,n in enumerate(stat) if n==1]\n",
    "    p = (len(problem_stat) - np.sum(problem_stat)) / len(problem_stat)\n",
    "    return(p)"
   ]
  },
  {
   "cell_type": "code",
   "execution_count": 6,
   "metadata": {},
   "outputs": [],
   "source": [
    "# シミュレーションを指定回数繰り返す\n",
    "n = 10000                     # サンプルサイズ\n",
    "N = 10000                     # シミュレーション回数\n",
    "P = 2/3                       # B先生が問題を作る確率\n",
    "PSTAT = np.array([1/5,1/2])   # B先生が統計を入れる確率、K先生が統計を入れる確率\n",
    "p_result = np.zeros(N)        # 結果を格納する配列をゼロベクトルに初期化\n",
    "\n",
    "# 配列のインデックスを指定して値を格納していくのもあり\n",
    "for i in range(N):\n",
    "    p_result[i] = bayesSingle()"
   ]
  },
  {
   "cell_type": "code",
   "execution_count": 7,
   "metadata": {},
   "outputs": [
    {
     "name": "stdout",
     "output_type": "stream",
     "text": [
      "mean 0.4444117417736077\n",
      "variance 8.330079168698446e-05\n",
      "answer 0.4444444444444444\n"
     ]
    }
   ],
   "source": [
    "# 平均と分散を出力、解答と比較\n",
    "print(\"mean\",np.mean(p_result))\n",
    "print(\"variance\",np.var(p_result))\n",
    "print(\"answer\",4/9)"
   ]
  },
  {
   "cell_type": "code",
   "execution_count": 8,
   "metadata": {},
   "outputs": [
    {
     "name": "stderr",
     "output_type": "stream",
     "text": [
      "C:\\Users\\yusuke_sato\\AppData\\Local\\Continuum\\anaconda3\\lib\\site-packages\\ipykernel_launcher.py:6: UserWarning: Matplotlib is currently using module://ipykernel.pylab.backend_inline, which is a non-GUI backend, so cannot show the figure.\n",
      "  \n"
     ]
    },
    {
     "data": {
      "image/png": "[encoded data removed]",
      "text/plain": [
       "<Figure size 432x288 with 1 Axes>"
      ]
     },
     "metadata": {
      "needs_background": "light"
     },
     "output_type": "display_data"
    }
   ],
   "source": [
    "# 問題に統計が含まれているときにB先生が問題を作った確率分布をヒストグラムで表示\n",
    "fig = plt.figure()\n",
    "ax = fig.add_subplot(1,1,1)\n",
    "\n",
    "ax.hist(p_result, bins=50)\n",
    "fig.show()"
   ]
  },
  {
   "cell_type": "code",
   "execution_count": 9,
   "metadata": {},
   "outputs": [
    {
     "data": {
      "text/plain": [
       "<matplotlib.axes._subplots.AxesSubplot at 0x1f33c08f708>"
      ]
     },
     "execution_count": 9,
     "metadata": {},
     "output_type": "execute_result"
    },
    {
     "data": {
      "image/png": "[encoded data removed]",
      "text/plain": [
       "<Figure size 432x288 with 1 Axes>"
      ]
     },
     "metadata": {},
     "output_type": "display_data"
    }
   ],
   "source": [
    "# seabornを使えばカーネル密度推定も簡単にできる\n",
    "sns.set()\n",
    "sns.set_style('whitegrid')\n",
    "sns.set_palette('Set1')\n",
    "\n",
    "sns.distplot(p_result, bins=50)"
   ]
  },
  {
   "cell_type": "code",
   "execution_count": null,
   "metadata": {},
   "outputs": [],
   "source": []
  }
 ],
 "metadata": {
  "kernelspec": {
   "display_name": "Python 3",
   "language": "python",
   "name": "python3"
  },
  "language_info": {
   "codemirror_mode": {
    "name": "ipython",
    "version": 3
   },
   "file_extension": ".py",
   "mimetype": "text/x-python",
   "name": "python",
   "nbconvert_exporter": "python",
   "pygments_lexer": "ipython3",
   "version": "3.7.4"
  }
 },
 "nbformat": 4,
 "nbformat_minor": 4
}
