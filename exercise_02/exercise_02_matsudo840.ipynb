{
  "nbformat": 4,
  "nbformat_minor": 0,
  "metadata": {
    "colab": {
      "name": "exercise_02_matsudo840.ipynb",
      "provenance": []
    },
    "kernelspec": {
      "name": "python3",
      "display_name": "Python 3"
    }
  },
  "cells": [
    {
      "cell_type": "markdown",
      "metadata": {
        "id": "SwIqxlGkBUFx",
        "colab_type": "text"
      },
      "source": [
        "# 演習問題2 ベイズの定理（事後確率）(I)\n",
        "B先生とK先生が試験問題を作成する確率は、それぞれ2/3と1/3である。B先生とK先生が試験問題を作ったときに「統計」の問題を入れる確率は、それぞれ1/5と1/2である。今回の試験問題に「統計」の問題が入っていた。このとき、B先生が問題を作った確率を求めよ。"
      ]
    },
    {
      "cell_type": "code",
      "metadata": {
        "id": "YXdZc32OkfJU",
        "colab_type": "code",
        "colab": {}
      },
      "source": [
        "import random"
      ],
      "execution_count": 0,
      "outputs": []
    },
    {
      "cell_type": "markdown",
      "metadata": {
        "id": "d2K-_WjzCIZM",
        "colab_type": "text"
      },
      "source": [
        "## シミュレーション"
      ]
    },
    {
      "cell_type": "code",
      "metadata": {
        "id": "li25BMk8jqh5",
        "colab_type": "code",
        "colab": {}
      },
      "source": [
        "# 元データ作成\n",
        "# D = [(試験ID, 作成者, 統計問題 有無), ...]\n",
        "\n",
        "D = []\n",
        "\n",
        "n = 10000\n",
        "for i in range(n):\n",
        "  author = 'B' if random.random() > 1/3 else 'K'\n",
        "  stat = True if (author == 'B' and random.random() < 1/5) or (author == 'K' and random.random() < 1/2) else False \n",
        "  D.append((i,author,stat))"
      ],
      "execution_count": 0,
      "outputs": []
    },
    {
      "cell_type": "code",
      "metadata": {
        "id": "Xh0kWbYFklVo",
        "colab_type": "code",
        "colab": {
          "base_uri": "https://localhost:8080/",
          "height": 34
        },
        "outputId": "4c99fbac-e789-4a9f-efee-e7a26e565deb"
      },
      "source": [
        "cnt_stat = 0\n",
        "cnt_B = 0\n",
        "for i, author, stat in D:\n",
        "  if stat:\n",
        "    cnt_stat += 1\n",
        "  if stat and author == 'B':\n",
        "    cnt_B += 1\n",
        "print(cnt_B / cnt_stat)"
      ],
      "execution_count": 10,
      "outputs": [
        {
          "output_type": "stream",
          "text": [
            "0.4359141184124919\n"
          ],
          "name": "stdout"
        }
      ]
    },
    {
      "cell_type": "code",
      "metadata": {
        "id": "6Im8ZtVZloPC",
        "colab_type": "code",
        "colab": {
          "base_uri": "https://localhost:8080/",
          "height": 34
        },
        "outputId": "7ec7c637-695f-4d38-9add-c1111e20c886"
      },
      "source": [
        "print(4/9)"
      ],
      "execution_count": 11,
      "outputs": [
        {
          "output_type": "stream",
          "text": [
            "0.4444444444444444\n"
          ],
          "name": "stdout"
        }
      ]
    },
    {
      "cell_type": "code",
      "metadata": {
        "id": "5NPtVClblrBe",
        "colab_type": "code",
        "colab": {}
      },
      "source": [
        ""
      ],
      "execution_count": 0,
      "outputs": []
    }
  ]
}