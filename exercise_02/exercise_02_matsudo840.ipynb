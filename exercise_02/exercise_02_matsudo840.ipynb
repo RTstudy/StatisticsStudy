{
  "nbformat": 4,
  "nbformat_minor": 0,
  "metadata": {
    "colab": {
      "name": "exercise_02_matsudo840.ipynb",
      "provenance": []
    },
    "kernelspec": {
      "name": "python3",
      "display_name": "Python 3"
    }
  },
  "cells": [
    {
      "cell_type": "markdown",
      "metadata": {
        "colab_type": "text",
        "id": "SwIqxlGkBUFx"
      },
      "source": [
        "# 演習問題2 ベイズの定理（事後確率）(I)\n",
        "B先生とK先生が試験問題を作成する確率は、それぞれ2/3と1/3である。B先生とK先生が試験問題を作ったときに「統計」の問題を入れる確率は、それぞれ1/5と1/2である。今回の試験問題に「統計」の問題が入っていた。このとき、B先生が問題を作った確率を求めよ。"
      ]
    },
    {
      "cell_type": "code",
      "execution_count": 1,
      "metadata": {},
      "outputs": [],
      "source": [
        "import random"
      ]
    },
    {
      "cell_type": "markdown",
      "metadata": {
        "colab_type": "text",
        "id": "d2K-_WjzCIZM"
      },
      "source": [
        "## シミュレーション"
      ]
    },
    {
      "cell_type": "code",
      "execution_count": 2,
      "metadata": {},
      "outputs": [],
      "source": [
        "# 元データ作成\n",
        "# D = [(試験ID, 作成者, 統計問題 有無), ...]\n",
        "\n",
        "D = []\n",
        "\n",
        "n = 10000\n",
        "for i in range(n):\n",
        "  author = 'B' if random.random() > 1/3 else 'K'\n",
        "  stat = True if (author == 'B' and random.random() < 1/5) or (author == 'K' and random.random() < 1/2) else False \n",
        "  D.append((i,author,stat))"
      ]
    },
    {
      "cell_type": "code",
      "execution_count": 3,
      "metadata": {},
      "outputs": [
        {
          "name": "stdout",
          "output_type": "stream",
          "text": "0.4438810006761325\n"
        }
      ],
      "source": [
        "cnt_stat = 0\n",
        "cnt_B = 0\n",
        "for i, author, stat in D:\n",
        "  if stat:\n",
        "    cnt_stat += 1\n",
        "  if stat and author == 'B':\n",
        "    cnt_B += 1\n",
        "print(cnt_B / cnt_stat)"
      ]
    },
    {
      "cell_type": "code",
      "execution_count": 4,
      "metadata": {},
      "outputs": [
        {
          "name": "stdout",
          "output_type": "stream",
          "text": "0.4444444444444444\n"
        }
      ],
      "source": [
        "# 模範解答と比較\n",
        "print(4/9)"
      ]
    },
    {
      "cell_type": "code",
      "execution_count": 0,
      "metadata": {
        "colab": {},
        "colab_type": "code",
        "id": "5NPtVClblrBe"
      },
      "outputs": [],
      "source": []
    }
  ]
}