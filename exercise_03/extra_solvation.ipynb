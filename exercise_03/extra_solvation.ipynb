{
 "cells": [
  {
   "cell_type": "code",
   "execution_count": 1,
   "metadata": {},
   "outputs": [],
   "source": [
    "# https://qiita.com/ceptree/items/3668ca52f8621b13bbc2\n",
    "# anacondaにもともとインストールされていた\n",
    "import sympy"
   ]
  },
  {
   "cell_type": "code",
   "execution_count": 2,
   "metadata": {},
   "outputs": [],
   "source": [
    "# おまじない\n",
    "sympy.init_printing()"
   ]
  },
  {
   "cell_type": "code",
   "execution_count": 3,
   "metadata": {},
   "outputs": [],
   "source": [
    "# LaTeXで表示\n",
    "from IPython.display import Math"
   ]
  },
  {
   "cell_type": "markdown",
   "metadata": {},
   "source": [
    "## 標準正規分布に従う確率変数Xがあるとき、X^2の期待値と分散を求める\n",
    "### 無理に積分しなくてもできるのを思い出しました。\n",
    "### ただし、一部モーメントを使うので、そこだけちょっと詳しく"
   ]
  },
  {
   "cell_type": "code",
   "execution_count": 4,
   "metadata": {},
   "outputs": [
    {
     "data": {
      "text/latex": [
       "$\\displaystyle f(x) = \\frac{1}{\\sqrt{2\\pi}}exp(-\\frac{x^2}{2})$"
      ],
      "text/plain": [
       "<IPython.core.display.Math object>"
      ]
     },
     "metadata": {},
     "output_type": "display_data"
    }
   ],
   "source": [
    "# 標準正規分布の確率分布関数\n",
    "# 標準正規分布の場合、μ=0,σ=1なので一部の項が簡単になることにる留意\n",
    "display(Math(r'f(x) = \\frac{1}{\\sqrt{2\\pi}}exp(-\\frac{x^2}{2})'))"
   ]
  },
  {
   "cell_type": "code",
   "execution_count": 5,
   "metadata": {},
   "outputs": [
    {
     "data": {
      "text/latex": [
       "$\\displaystyle M(\\theta)=e^{\\mu\\theta+\\frac{1}{2}\\sigma^2\\theta^2}$"
      ],
      "text/plain": [
       "<IPython.core.display.Math object>"
      ]
     },
     "metadata": {},
     "output_type": "display_data"
    }
   ],
   "source": [
    "# 正規分布のモーメント母関数\n",
    "# マセマ本のp96に式があります\n",
    "display(Math(r'M(\\theta)=e^{\\mu\\theta+\\frac{1}{2}\\sigma^2\\theta^2}'))"
   ]
  },
  {
   "cell_type": "code",
   "execution_count": 6,
   "metadata": {},
   "outputs": [
    {
     "data": {
      "text/latex": [
       "$\\displaystyle M(\\theta)=e^{\\frac{1}{2}\\theta^2}$"
      ],
      "text/plain": [
       "<IPython.core.display.Math object>"
      ]
     },
     "metadata": {},
     "output_type": "display_data"
    }
   ],
   "source": [
    "# 標準正規分布はμ=0、σ=1なので、\n",
    "display(Math(r'M(\\theta)=e^{\\frac{1}{2}\\theta^2}'))"
   ]
  },
  {
   "cell_type": "code",
   "execution_count": 7,
   "metadata": {},
   "outputs": [
    {
     "data": {
      "text/latex": [
       "$\\displaystyle M^{(4)}(0)=E[X^4]$"
      ],
      "text/plain": [
       "<IPython.core.display.Math object>"
      ]
     },
     "metadata": {},
     "output_type": "display_data"
    }
   ],
   "source": [
    "# モーメント母艦数のn階微分したものにθ=0を代入するとE[X^n]になるので、\n",
    "display(Math(r'M^{(4)}(0)=E[X^4]'))"
   ]
  },
  {
   "cell_type": "code",
   "execution_count": 8,
   "metadata": {},
   "outputs": [
    {
     "data": {
      "text/latex": [
       "$\\displaystyle M^{(1)}(\\theta)=\\theta e^{\\frac{1}{2}\\theta^2}$"
      ],
      "text/plain": [
       "<IPython.core.display.Math object>"
      ]
     },
     "metadata": {},
     "output_type": "display_data"
    },
    {
     "data": {
      "text/latex": [
       "$\\displaystyle M^{(2)}(\\theta)=(1+\\theta^2)e^{\\frac{1}{2}\\theta^2}$"
      ],
      "text/plain": [
       "<IPython.core.display.Math object>"
      ]
     },
     "metadata": {},
     "output_type": "display_data"
    },
    {
     "data": {
      "text/latex": [
       "$\\displaystyle M^{(3)}(\\theta)=(3\\theta+\\theta^3)e^{\\frac{1}{2}\\theta^2}$"
      ],
      "text/plain": [
       "<IPython.core.display.Math object>"
      ]
     },
     "metadata": {},
     "output_type": "display_data"
    },
    {
     "data": {
      "text/latex": [
       "$\\displaystyle M^{(4)}(\\theta)=(3+6\\theta^2+\\theta^4)e^{\\frac{1}{2}\\theta^2}$"
      ],
      "text/plain": [
       "<IPython.core.display.Math object>"
      ]
     },
     "metadata": {},
     "output_type": "display_data"
    }
   ],
   "source": [
    "# モーメント母関数の1階微分～4階微分を求める\n",
    "# 計算間違ってるかもしれないので検証してください。。。\n",
    "display(Math(r'M^{(1)}(\\theta)=\\theta e^{\\frac{1}{2}\\theta^2}'))\n",
    "display(Math(r'M^{(2)}(\\theta)=(1+\\theta^2)e^{\\frac{1}{2}\\theta^2}'))\n",
    "display(Math(r'M^{(3)}(\\theta)=(3\\theta+\\theta^3)e^{\\frac{1}{2}\\theta^2}'))\n",
    "display(Math(r'M^{(4)}(\\theta)=(3+6\\theta^2+\\theta^4)e^{\\frac{1}{2}\\theta^2}'))"
   ]
  },
  {
   "cell_type": "code",
   "execution_count": 9,
   "metadata": {},
   "outputs": [
    {
     "data": {
      "text/latex": [
       "$\\displaystyle \\begin{eqnarray} M^{(4)}(0)&=&(3+6*0^2+0^4)e^{\\frac{1}{2}0^2} \\nonumber　\\\\ \\\n",
       "                                          &=& 3　\\nonumber \\end{eqnarray}$"
      ],
      "text/plain": [
       "<IPython.core.display.Math object>"
      ]
     },
     "metadata": {},
     "output_type": "display_data"
    }
   ],
   "source": [
    "# モーメント母艦数からE[X^4]を求めると\n",
    "display(Math(r'\\begin{eqnarray} M^{(4)}(0)&=&(3+6*0^2+0^4)e^{\\frac{1}{2}0^2} \\nonumber　\\\\ \\\n",
    "                                          &=& 3　\\nonumber \\end{eqnarray}'))"
   ]
  },
  {
   "cell_type": "code",
   "execution_count": 10,
   "metadata": {},
   "outputs": [
    {
     "data": {
      "text/latex": [
       "$\\displaystyle E[X^4]=3$"
      ],
      "text/plain": [
       "<IPython.core.display.Math object>"
      ]
     },
     "metadata": {},
     "output_type": "display_data"
    }
   ],
   "source": [
    "# したがって、標準正規分布におけるE[X^4]は\n",
    "display(Math(r'E[X^4]=3'))"
   ]
  },
  {
   "cell_type": "markdown",
   "metadata": {},
   "source": [
    "### 以上の状況を念頭において、標準正規分布に従うXがあるときのX^2の期待値と分散を求める"
   ]
  },
  {
   "cell_type": "code",
   "execution_count": 11,
   "metadata": {},
   "outputs": [
    {
     "data": {
      "text/latex": [
       "$\\displaystyle \\begin{eqnarray} E[X^2] &=& V(X) + (E[X])^2 \\nonumber　\\\\ \\\n",
       "                                       &=& 1 + 0  \\nonumber　\\\\ \\\n",
       "                                       &=& 1\\nonumber \\end{eqnarray}$"
      ],
      "text/plain": [
       "<IPython.core.display.Math object>"
      ]
     },
     "metadata": {},
     "output_type": "display_data"
    }
   ],
   "source": [
    "display(Math(r'\\begin{eqnarray} E[X^2] &=& V(X) + (E[X])^2 \\nonumber　\\\\ \\\n",
    "                                       &=& 1 + 0  \\nonumber　\\\\ \\\n",
    "                                       &=& 1\\nonumber \\end{eqnarray}'))"
   ]
  },
  {
   "cell_type": "code",
   "execution_count": 12,
   "metadata": {},
   "outputs": [
    {
     "data": {
      "text/latex": [
       "$\\displaystyle \\begin{eqnarray} V(X^2) &=& E[(X^2)^2] - (E[X^2])^2 \\nonumber　\\\\ \\\n",
       "                                       &=& E[X^4] - 1 \\nonumber　\\\\ \\\n",
       "                                       &=& 3 - 1 \\nonumber　\\\\ \\\n",
       "                                       &=& 2\\nonumber \\end{eqnarray}$"
      ],
      "text/plain": [
       "<IPython.core.display.Math object>"
      ]
     },
     "metadata": {},
     "output_type": "display_data"
    }
   ],
   "source": [
    "display(Math(r'\\begin{eqnarray} V(X^2) &=& E[(X^2)^2] - (E[X^2])^2 \\nonumber　\\\\ \\\n",
    "                                       &=& E[X^4] - 1 \\nonumber　\\\\ \\\n",
    "                                       &=& 3 - 1 \\nonumber　\\\\ \\\n",
    "                                       &=& 2\\nonumber \\end{eqnarray}'))"
   ]
  },
  {
   "cell_type": "markdown",
   "metadata": {},
   "source": [
    "### 以上より、標準正規分布に従う確率変数Xがあったとき、X^2の期待値と分散は\n",
    "### E[X^2] = 1、V(X^2) = 2となり、シミュレーションしていただいた値と合致することが分かりました。"
   ]
  },
  {
   "cell_type": "code",
   "execution_count": null,
   "metadata": {},
   "outputs": [],
   "source": []
  }
 ],
 "metadata": {
  "kernelspec": {
   "display_name": "Python 3",
   "language": "python",
   "name": "python3"
  },
  "language_info": {
   "codemirror_mode": {
    "name": "ipython",
    "version": 3
   },
   "file_extension": ".py",
   "mimetype": "text/x-python",
   "name": "python",
   "nbconvert_exporter": "python",
   "pygments_lexer": "ipython3",
   "version": "3.7.1"
  }
 },
 "nbformat": 4,
 "nbformat_minor": 4
}
