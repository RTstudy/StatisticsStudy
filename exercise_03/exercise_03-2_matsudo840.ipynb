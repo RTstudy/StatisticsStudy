{
  "nbformat": 4,
  "nbformat_minor": 0,
  "metadata": {
    "language_info": {
      "name": "python",
      "codemirror_mode": {
        "name": "ipython",
        "version": 3
      },
      "version": "3.7.3-final"
    },
    "orig_nbformat": 2,
    "file_extension": ".py",
    "mimetype": "text/x-python",
    "name": "python",
    "npconvert_exporter": "python",
    "pygments_lexer": "ipython3",
    "version": 3,
    "kernelspec": {
      "name": "914130d1-6f33-422a-b45c-5149b640094a",
      "display_name": "'Python Interactive'"
    },
    "colab": {
      "name": "exercise_03-2_matsudo840.ipynb",
      "provenance": [],
      "collapsed_sections": []
    },
    "widgets": {
      "application/vnd.jupyter.widget-state+json": {
        "84315acf2bb24415b6d09f16b516ced8": {
          "model_module": "@jupyter-widgets/controls",
          "model_name": "VBoxModel",
          "state": {
            "_view_name": "VBoxView",
            "_dom_classes": [
              "widget-interact"
            ],
            "_model_name": "VBoxModel",
            "_view_module": "@jupyter-widgets/controls",
            "_model_module_version": "1.5.0",
            "_view_count": null,
            "_view_module_version": "1.5.0",
            "box_style": "",
            "layout": "IPY_MODEL_d646176f9ec243f786a3eb325b11d3a1",
            "_model_module": "@jupyter-widgets/controls",
            "children": [
              "IPY_MODEL_d3e12e8f701e43a3adc6b79ac86f1918",
              "IPY_MODEL_fd868299f27149879ff36fc30561e86c",
              "IPY_MODEL_c1b9271aa16147f9aa494dc52e35deb0"
            ]
          }
        },
        "d646176f9ec243f786a3eb325b11d3a1": {
          "model_module": "@jupyter-widgets/base",
          "model_name": "LayoutModel",
          "state": {
            "_view_name": "LayoutView",
            "grid_template_rows": null,
            "right": null,
            "justify_content": null,
            "_view_module": "@jupyter-widgets/base",
            "overflow": null,
            "_model_module_version": "1.2.0",
            "_view_count": null,
            "flex_flow": null,
            "width": null,
            "min_width": null,
            "border": null,
            "align_items": null,
            "bottom": null,
            "_model_module": "@jupyter-widgets/base",
            "top": null,
            "grid_column": null,
            "overflow_y": null,
            "overflow_x": null,
            "grid_auto_flow": null,
            "grid_area": null,
            "grid_template_columns": null,
            "flex": null,
            "_model_name": "LayoutModel",
            "justify_items": null,
            "grid_row": null,
            "max_height": null,
            "align_content": null,
            "visibility": null,
            "align_self": null,
            "height": null,
            "min_height": null,
            "padding": null,
            "grid_auto_rows": null,
            "grid_gap": null,
            "max_width": null,
            "order": null,
            "_view_module_version": "1.2.0",
            "grid_template_areas": null,
            "object_position": null,
            "object_fit": null,
            "grid_auto_columns": null,
            "margin": null,
            "display": null,
            "left": null
          }
        },
        "d3e12e8f701e43a3adc6b79ac86f1918": {
          "model_module": "@jupyter-widgets/controls",
          "model_name": "FloatSliderModel",
          "state": {
            "_view_name": "FloatSliderView",
            "style": "IPY_MODEL_6c9f5b3c1dca4bdaa6a51f174a096159",
            "_dom_classes": [],
            "description": "myu",
            "step": 0.1,
            "_model_name": "FloatSliderModel",
            "orientation": "horizontal",
            "max": 7,
            "_view_module": "@jupyter-widgets/controls",
            "_model_module_version": "1.5.0",
            "value": 4.4,
            "_view_count": null,
            "disabled": false,
            "_view_module_version": "1.5.0",
            "min": -7,
            "continuous_update": true,
            "readout_format": ".2f",
            "description_tooltip": null,
            "readout": true,
            "_model_module": "@jupyter-widgets/controls",
            "layout": "IPY_MODEL_917a97f3278b4903ae29ef7a1e58329a"
          }
        },
        "fd868299f27149879ff36fc30561e86c": {
          "model_module": "@jupyter-widgets/controls",
          "model_name": "FloatSliderModel",
          "state": {
            "_view_name": "FloatSliderView",
            "style": "IPY_MODEL_a71dc780dc0542a7844ff7e9d4e7d7d3",
            "_dom_classes": [],
            "description": "sigma",
            "step": 0.1,
            "_model_name": "FloatSliderModel",
            "orientation": "horizontal",
            "max": 2,
            "_view_module": "@jupyter-widgets/controls",
            "_model_module_version": "1.5.0",
            "value": 2,
            "_view_count": null,
            "disabled": false,
            "_view_module_version": "1.5.0",
            "min": 0,
            "continuous_update": true,
            "readout_format": ".2f",
            "description_tooltip": null,
            "readout": true,
            "_model_module": "@jupyter-widgets/controls",
            "layout": "IPY_MODEL_97e46ea9913349f9a71326fae02b0cee"
          }
        },
        "c1b9271aa16147f9aa494dc52e35deb0": {
          "model_module": "@jupyter-widgets/output",
          "model_name": "OutputModel",
          "state": {
            "_view_name": "OutputView",
            "msg_id": "",
            "_dom_classes": [],
            "_model_name": "OutputModel",
            "outputs": [
              {
                "output_type": "stream",
                "metadata": {
                  "tags": []
                },
                "text": "mean=-0.35480370572486924, var=0.9863738442632193\n",
                "stream": "stdout"
              },
              {
                "output_type": "display_data",
                "metadata": {
                  "tags": []
                },
                "image/png": "iVBORw0KGgoAAAANSUhEUgAAAYcAAAD9CAYAAABX0LttAAAABHNCSVQICAgIfAhkiAAAAAlwSFlz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\n8H/yy1bCzhY5sAAAAABJRU5ErkJggg==\n",
                "text/plain": "<Figure size 432x288 with 1 Axes>"
              }
            ],
            "_view_module": "@jupyter-widgets/output",
            "_model_module_version": "1.0.0",
            "_view_count": null,
            "_view_module_version": "1.0.0",
            "layout": "IPY_MODEL_9c925772766f49d491ac29a2ed64ee72",
            "_model_module": "@jupyter-widgets/output"
          }
        },
        "6c9f5b3c1dca4bdaa6a51f174a096159": {
          "model_module": "@jupyter-widgets/controls",
          "model_name": "SliderStyleModel",
          "state": {
            "_view_name": "StyleView",
            "handle_color": null,
            "_model_name": "SliderStyleModel",
            "description_width": "",
            "_view_module": "@jupyter-widgets/base",
            "_model_module_version": "1.5.0",
            "_view_count": null,
            "_view_module_version": "1.2.0",
            "_model_module": "@jupyter-widgets/controls"
          }
        },
        "917a97f3278b4903ae29ef7a1e58329a": {
          "model_module": "@jupyter-widgets/base",
          "model_name": "LayoutModel",
          "state": {
            "_view_name": "LayoutView",
            "grid_template_rows": null,
            "right": null,
            "justify_content": null,
            "_view_module": "@jupyter-widgets/base",
            "overflow": null,
            "_model_module_version": "1.2.0",
            "_view_count": null,
            "flex_flow": null,
            "width": null,
            "min_width": null,
            "border": null,
            "align_items": null,
            "bottom": null,
            "_model_module": "@jupyter-widgets/base",
            "top": null,
            "grid_column": null,
            "overflow_y": null,
            "overflow_x": null,
            "grid_auto_flow": null,
            "grid_area": null,
            "grid_template_columns": null,
            "flex": null,
            "_model_name": "LayoutModel",
            "justify_items": null,
            "grid_row": null,
            "max_height": null,
            "align_content": null,
            "visibility": null,
            "align_self": null,
            "height": null,
            "min_height": null,
            "padding": null,
            "grid_auto_rows": null,
            "grid_gap": null,
            "max_width": null,
            "order": null,
            "_view_module_version": "1.2.0",
            "grid_template_areas": null,
            "object_position": null,
            "object_fit": null,
            "grid_auto_columns": null,
            "margin": null,
            "display": null,
            "left": null
          }
        },
        "a71dc780dc0542a7844ff7e9d4e7d7d3": {
          "model_module": "@jupyter-widgets/controls",
          "model_name": "SliderStyleModel",
          "state": {
            "_view_name": "StyleView",
            "handle_color": null,
            "_model_name": "SliderStyleModel",
            "description_width": "",
            "_view_module": "@jupyter-widgets/base",
            "_model_module_version": "1.5.0",
            "_view_count": null,
            "_view_module_version": "1.2.0",
            "_model_module": "@jupyter-widgets/controls"
          }
        },
        "97e46ea9913349f9a71326fae02b0cee": {
          "model_module": "@jupyter-widgets/base",
          "model_name": "LayoutModel",
          "state": {
            "_view_name": "LayoutView",
            "grid_template_rows": null,
            "right": null,
            "justify_content": null,
            "_view_module": "@jupyter-widgets/base",
            "overflow": null,
            "_model_module_version": "1.2.0",
            "_view_count": null,
            "flex_flow": null,
            "width": null,
            "min_width": null,
            "border": null,
            "align_items": null,
            "bottom": null,
            "_model_module": "@jupyter-widgets/base",
            "top": null,
            "grid_column": null,
            "overflow_y": null,
            "overflow_x": null,
            "grid_auto_flow": null,
            "grid_area": null,
            "grid_template_columns": null,
            "flex": null,
            "_model_name": "LayoutModel",
            "justify_items": null,
            "grid_row": null,
            "max_height": null,
            "align_content": null,
            "visibility": null,
            "align_self": null,
            "height": null,
            "min_height": null,
            "padding": null,
            "grid_auto_rows": null,
            "grid_gap": null,
            "max_width": null,
            "order": null,
            "_view_module_version": "1.2.0",
            "grid_template_areas": null,
            "object_position": null,
            "object_fit": null,
            "grid_auto_columns": null,
            "margin": null,
            "display": null,
            "left": null
          }
        }
      }
    }
  },
  "cells": [
    {
      "cell_type": "markdown",
      "metadata": {
        "id": "N43Ap2j83jWY",
        "colab_type": "text"
      },
      "source": [
        "# 実践問題3 Y=aX+b の期待値と分散"
      ]
    },
    {
      "cell_type": "markdown",
      "metadata": {
        "id": "p-Fsv3MF3jWa",
        "colab_type": "text"
      },
      "source": [
        "## (1) 確率変数Yの期待値と分散"
      ]
    },
    {
      "cell_type": "code",
      "metadata": {
        "id": "wN7S8mKS3jWc",
        "colab_type": "code",
        "colab": {}
      },
      "source": [
        "import matplotlib.pyplot as plt\n",
        "import numpy as np\n",
        "from scipy.stats import norm\n",
        "import pandas as pd\n",
        "import scipy.stats as stats\n",
        "\n",
        "from matplotlib import pyplot as plt\n",
        "import seaborn as sns; sns.set() # sns.set() ==> グラフの見た目をseabornに合わせる"
      ],
      "execution_count": 0,
      "outputs": []
    },
    {
      "cell_type": "code",
      "metadata": {
        "id": "eWH7Woqc3jWh",
        "colab_type": "code",
        "colab": {}
      },
      "source": [
        "n = 1000  # シミュレーションのサンプルサイズ\n",
        "loc = 37/10\n",
        "scale = 201/100\n",
        "X = np.random.normal(loc=loc, scale=scale, size=n)"
      ],
      "execution_count": 0,
      "outputs": []
    },
    {
      "cell_type": "code",
      "metadata": {
        "id": "jrDPSMU23jWl",
        "colab_type": "code",
        "colab": {
          "base_uri": "https://localhost:8080/",
          "height": 34
        },
        "outputId": "653114c0-ed09-4fa0-e61b-3ffc005f54a7"
      },
      "source": [
        "# Xの標本平均、標本分散、ヒストグラム\n",
        "meanX = np.mean(X)\n",
        "varX = np.var(X)\n",
        "print('mean={}, var={}'.format(meanX, varX))"
      ],
      "execution_count": 3,
      "outputs": [
        {
          "output_type": "stream",
          "text": [
            "mean=3.6903925885502615, var=3.945495377052877\n"
          ],
          "name": "stdout"
        }
      ]
    },
    {
      "cell_type": "code",
      "metadata": {
        "id": "Se36cSk_3jWp",
        "colab_type": "code",
        "colab": {
          "base_uri": "https://localhost:8080/",
          "height": 268
        },
        "outputId": "c0d8c30c-abe0-4122-f83f-4ba8d5ba8de3"
      },
      "source": [
        "sns.distplot(X);"
      ],
      "execution_count": 4,
      "outputs": [
        {
          "output_type": "display_data",
          "data": {
            "image/png": "[encoded data removed]",
            "text/plain": [
              "<Figure size 432x288 with 1 Axes>"
            ]
          },
          "metadata": {
            "tags": []
          }
        }
      ]
    },
    {
      "cell_type": "code",
      "metadata": {
        "id": "aWYGOMq-3jWt",
        "colab_type": "code",
        "colab": {}
      },
      "source": [
        "def qqplot(dist):\n",
        "    stats.probplot(dist, dist=\"norm\", plot=plt)\n",
        "    plt.show()"
      ],
      "execution_count": 0,
      "outputs": []
    },
    {
      "cell_type": "code",
      "metadata": {
        "id": "fdT-hUmW3jWw",
        "colab_type": "code",
        "colab": {
          "base_uri": "https://localhost:8080/",
          "height": 301
        },
        "outputId": "a3e2906b-70c0-4cda-98bf-ab040d94c987"
      },
      "source": [
        "# 正規性を見るためのQ-Qプロット\n",
        "qqplot(X)"
      ],
      "execution_count": 6,
      "outputs": [
        {
          "output_type": "display_data",
          "data": {
            "image/png": "[encoded data removed]",
            "text/plain": [
              "<Figure size 432x288 with 1 Axes>"
            ]
          },
          "metadata": {
            "tags": []
          }
        }
      ]
    },
    {
      "cell_type": "code",
      "metadata": {
        "id": "czCgNw9D3jW0",
        "colab_type": "code",
        "colab": {
          "base_uri": "https://localhost:8080/",
          "height": 34
        },
        "outputId": "fb3e4f7d-e9e4-43d6-d0d9-24e48a18fe5c"
      },
      "source": [
        "# Yの標本平均、標本分散、ヒストグラム\n",
        "Y = 10*(X-3)\n",
        "meanY = np.mean(Y)\n",
        "varY = np.var(Y)\n",
        "print('mean={}, var={}'.format(meanY, varY))\n"
      ],
      "execution_count": 7,
      "outputs": [
        {
          "output_type": "stream",
          "text": [
            "mean=6.90392588550262, var=394.5495377052877\n"
          ],
          "name": "stdout"
        }
      ]
    },
    {
      "cell_type": "code",
      "metadata": {
        "id": "eBR8-pUm3jW4",
        "colab_type": "code",
        "colab": {
          "base_uri": "https://localhost:8080/",
          "height": 268
        },
        "outputId": "78e16f59-c52c-4689-bc7b-5d397cc7dcb3"
      },
      "source": [
        "sns.distplot(Y);"
      ],
      "execution_count": 8,
      "outputs": [
        {
          "output_type": "display_data",
          "data": {
            "image/png": "[encoded data removed]",
            "text/plain": [
              "<Figure size 432x288 with 1 Axes>"
            ]
          },
          "metadata": {
            "tags": []
          }
        }
      ]
    },
    {
      "cell_type": "code",
      "metadata": {
        "id": "_A9h5KKK3jW8",
        "colab_type": "code",
        "colab": {
          "base_uri": "https://localhost:8080/",
          "height": 301
        },
        "outputId": "f558afcc-2824-4d95-9630-afe39f781be8"
      },
      "source": [
        "# 正規性を見るためのQ-Qプロット\n",
        "qqplot(Y)"
      ],
      "execution_count": 9,
      "outputs": [
        {
          "output_type": "display_data",
          "data": {
            "image/png": "[encoded data removed]",
            "text/plain": [
              "<Figure size 432x288 with 1 Axes>"
            ]
          },
          "metadata": {
            "tags": []
          }
        }
      ]
    },
    {
      "cell_type": "markdown",
      "metadata": {
        "id": "ys6AeG_Y3jXC",
        "colab_type": "text"
      },
      "source": [
        "## (2) 確率変数Zの期待値と分散"
      ]
    },
    {
      "cell_type": "code",
      "metadata": {
        "id": "vgdhh09J3jXD",
        "colab_type": "code",
        "colab": {}
      },
      "source": [
        "# インタラクティブにグラフを描画するUIを作ってみる\n",
        "# https://ipywidgets.readthedocs.io/en/latest/examples/Using%20Interact.html\n",
        "\n",
        "from __future__ import print_function\n",
        "from ipywidgets import interact, interactive, fixed, interact_manual\n",
        "import ipywidgets as widgets"
      ],
      "execution_count": 0,
      "outputs": []
    },
    {
      "cell_type": "code",
      "metadata": {
        "id": "1-QNJppx3jXG",
        "colab_type": "code",
        "colab": {}
      },
      "source": [
        "def f(myu, sigma):\n",
        "  Z = (X-myu)/sigma\n",
        "  meanZ = np.mean(Z)\n",
        "  varZ = np.var(Z)\n",
        "  print('mean={}, var={}'.format(meanZ, varZ))\n",
        "\n",
        "  plt.xlim(-10, 10)  \n",
        "  plt.hist(Z)\n",
        "  plt.show;\n",
        "  return"
      ],
      "execution_count": 0,
      "outputs": []
    },
    {
      "cell_type": "code",
      "metadata": {
        "id": "krJrMb_Z3jXJ",
        "colab_type": "code",
        "colab": {
          "base_uri": "https://localhost:8080/",
          "height": 351,
          "referenced_widgets": [
            "84315acf2bb24415b6d09f16b516ced8",
            "d646176f9ec243f786a3eb325b11d3a1",
            "d3e12e8f701e43a3adc6b79ac86f1918",
            "fd868299f27149879ff36fc30561e86c",
            "c1b9271aa16147f9aa494dc52e35deb0",
            "6c9f5b3c1dca4bdaa6a51f174a096159",
            "917a97f3278b4903ae29ef7a1e58329a",
            "a71dc780dc0542a7844ff7e9d4e7d7d3",
            "97e46ea9913349f9a71326fae02b0cee"
          ]
        },
        "outputId": "d371e0a8-7caa-4e4b-b975-c3b1d15751eb"
      },
      "source": [
        "interact(f, myu=(-7.0,7.0,0.1), sigma=(0.0,2.0,0.1));"
      ],
      "execution_count": 37,
      "outputs": [
        {
          "output_type": "display_data",
          "data": {
            "application/vnd.jupyter.widget-view+json": {
              "model_id": "84315acf2bb24415b6d09f16b516ced8",
              "version_minor": 0,
              "version_major": 2
            },
            "text/plain": [
              "interactive(children=(FloatSlider(value=0.0, description='myu', max=7.0, min=-7.0), FloatSlider(value=1.0, des…"
            ]
          },
          "metadata": {
            "tags": []
          }
        }
      ]
    },
    {
      "cell_type": "code",
      "metadata": {
        "id": "jkW6_8m532YE",
        "colab_type": "code",
        "colab": {}
      },
      "source": [
        ""
      ],
      "execution_count": 0,
      "outputs": []
    }
  ]
}